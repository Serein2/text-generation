{
 "cells": [
  {
   "cell_type": "code",
   "execution_count": 1,
   "metadata": {},
   "outputs": [],
   "source": [
    "import json\n",
    "import os\n",
    "import jieba\n",
    "from dataset import PairDataset"
   ]
  },
  {
   "cell_type": "code",
   "execution_count": 2,
   "metadata": {},
   "outputs": [
    {
     "name": "stdout",
     "output_type": "stream",
     "text": [
      "Reading dataset ../files/train.txt... 43995 paris.\n"
     ]
    }
   ],
   "source": [
    "data = PairDataset(filename='../files/train.txt')\n",
    "vocab = data.bulid_vocab()"
   ]
  },
  {
   "cell_type": "code",
   "execution_count": 4,
   "metadata": {},
   "outputs": [
    {
     "name": "stdout",
     "output_type": "stream",
     "text": [
      "{'x': [1, 2717, 2718, 2719, 2720, 2721, 2722, 241, 2723, 2724, 2725, 2726, 2727, 126, 2728, 2729, 0, 2730, 0, 2731, 2732, 0, 2733, 0, 2734, 0, 2735, 2736, 0, 2737, 2736, 0, 2738, 116, 0, 2739, 0, 2740, 0, 2741, 2720, 0, 2742, 133, 2743, 0, 2744, 0, 2734, 2745, 0, 2746, 2, 0, 2747, 2748, 0, 2749, 2, 0, 2750, 2751, 1, 2752, 0, 2753, 2745, 0, 2754, 2755, 1, 2756, 2757, 2758, 0, 2741, 2720, 2750, 2751, 1, 2752, 0, 2759, 0, 2731, 2760, 0, 2761, 0, 2762, 0, 2763, 0, 2764, 2765, 2766, 2767, 2768, 2769, 2770, 2771, 2772, 2773, 2774, 2775, 2776, 2777, 2778, 2], 'OOV': ['雪中飞', '春夏', '新款', '柔软', '舒适', '百搭高', '纯色', '针织', '不规则', '半身裙', '运动', '黑色商品', '卖点', '裤长', '面料', '特色', '浅麻灰', '下摆', '细节', '展示', '模特', '商品', '腰围', '胸围', '手感', '耐穿', '打理', '黑色', '设计', '弹性', '浅麻', '灰黑色', '透明', '具有', '良好', '透气性', '腰部', '打造', '自然', 'causal', '通勤', '造型', '适中', '解析', '不透', '背面', '正面', '微弹弹力', '高弹力流行元素', '不规则图案', '纯色适用年龄', '25-29周岁品牌', '雪中飞（SNOW', 'FLYING）材质', '其它腰型', '高腰上市时间', '2019年春季厚度', '常规廓形', 'H型裙长', '中裙裙型', '不规则风格', '运动风'], 'len_OOV': 62, 'y': [1, 2723, 2726, 0, 36, 3, 2745, 1, 3, 3, 0, 67, 69, 3, 3, 1316, 292, 0, 3, 3, 3, 3, 0, 229, 342, 3, 3, 1, 3, 0, 3, 3, 0, 38, 3, 3, 3, 5, 2], 'x_len': 107, 'y_len': 37}\n"
     ]
    }
   ],
   "source": [
    "# 测试SimpleDataset\n",
    "from dataset import SimpleDataset\n",
    "df = SimpleDataset(data.pairs, vocab)\n",
    "for m in df:\n",
    "    print(m)\n",
    "    break"
   ]
  },
  {
   "cell_type": "code",
   "execution_count": 14,
   "metadata": {},
   "outputs": [
    {
     "data": {
      "text/plain": [
       "torch.Size([3, 3, 100])"
      ]
     },
     "execution_count": 14,
     "metadata": {},
     "output_type": "execute_result"
    }
   ],
   "source": [
    "import torch.nn as nn\n",
    "import torch\n",
    "em = nn.Embedding(300,100)\n",
    "# bs, seq_len, hidden_size\n",
    "em(torch.tensor([[1, 2,3], [4, 5, 6], [7, 8, 9]])).shape"
   ]
  },
  {
   "cell_type": "code",
   "execution_count": 4,
   "metadata": {},
   "outputs": [
    {
     "data": {
      "text/plain": [
       "array([1, 2, 0], dtype=int64)"
      ]
     },
     "execution_count": 4,
     "metadata": {},
     "output_type": "execute_result"
    }
   ],
   "source": [
    "import numpy as np\n",
    "np.array([12, 10, 11]).argsort()"
   ]
  },
  {
   "cell_type": "code",
   "execution_count": null,
   "metadata": {},
   "outputs": [],
   "source": []
  }
 ],
 "metadata": {
  "kernelspec": {
   "display_name": "base",
   "language": "python",
   "name": "python3"
  },
  "language_info": {
   "codemirror_mode": {
    "name": "ipython",
    "version": 3
   },
   "file_extension": ".py",
   "mimetype": "text/x-python",
   "name": "python",
   "nbconvert_exporter": "python",
   "pygments_lexer": "ipython3",
   "version": "3.8.8"
  },
  "orig_nbformat": 4,
  "vscode": {
   "interpreter": {
    "hash": "47e86d731e077963188d400b641a1f5cee6401b89b8a1175acb1a082248e2517"
   }
  }
 },
 "nbformat": 4,
 "nbformat_minor": 2
}
