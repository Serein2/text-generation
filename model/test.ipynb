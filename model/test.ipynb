{
 "cells": [
  {
   "cell_type": "code",
   "execution_count": 1,
   "metadata": {},
   "outputs": [],
   "source": [
    "import json\n",
    "import os\n",
    "import jieba\n",
    "from dataset import PairDataset"
   ]
  },
  {
   "cell_type": "code",
   "execution_count": 2,
   "metadata": {},
   "outputs": [
    {
     "name": "stdout",
     "output_type": "stream",
     "text": [
      "Reading dataset ../files/train.txt... 43995 paris.\n"
     ]
    }
   ],
   "source": [
    "data = PairDataset(filename='../files/train.txt')\n",
    "vocab = data.bulid_vocab()"
   ]
  },
  {
   "cell_type": "code",
   "execution_count": 4,
   "metadata": {},
   "outputs": [
    {
     "name": "stdout",
     "output_type": "stream",
     "text": [
      "{'x': [1, 2717, 2718, 2719, 2720, 2721, 2722, 241, 2723, 2724, 2725, 2726, 2727, 126, 2728, 2729, 0, 2730, 0, 2731, 2732, 0, 2733, 0, 2734, 0, 2735, 2736, 0, 2737, 2736, 0, 2738, 116, 0, 2739, 0, 2740, 0, 2741, 2720, 0, 2742, 133, 2743, 0, 2744, 0, 2734, 2745, 0, 2746, 2, 0, 2747, 2748, 0, 2749, 2, 0, 2750, 2751, 1, 2752, 0, 2753, 2745, 0, 2754, 2755, 1, 2756, 2757, 2758, 0, 2741, 2720, 2750, 2751, 1, 2752, 0, 2759, 0, 2731, 2760, 0, 2761, 0, 2762, 0, 2763, 0, 2764, 2765, 2766, 2767, 2768, 2769, 2770, 2771, 2772, 2773, 2774, 2775, 2776, 2777, 2778, 2], 'OOV': ['雪中飞', '春夏', '新款', '柔软', '舒适', '百搭高', '纯色', '针织', '不规则', '半身裙', '运动', '黑色商品', '卖点', '裤长', '面料', '特色', '浅麻灰', '下摆', '细节', '展示', '模特', '商品', '腰围', '胸围', '手感', '耐穿', '打理', '黑色', '设计', '弹性', '浅麻', '灰黑色', '透明', '具有', '良好', '透气性', '腰部', '打造', '自然', 'causal', '通勤', '造型', '适中', '解析', '不透', '背面', '正面', '微弹弹力', '高弹力流行元素', '不规则图案', '纯色适用年龄', '25-29周岁品牌', '雪中飞（SNOW', 'FLYING）材质', '其它腰型', '高腰上市时间', '2019年春季厚度', '常规廓形', 'H型裙长', '中裙裙型', '不规则风格', '运动风'], 'len_OOV': 62, 'y': [1, 2723, 2726, 0, 36, 3, 2745, 1, 3, 3, 0, 67, 69, 3, 3, 1316, 292, 0, 3, 3, 3, 3, 0, 229, 342, 3, 3, 1, 3, 0, 3, 3, 0, 38, 3, 3, 3, 5, 2], 'x_len': 107, 'y_len': 37}\n"
     ]
    }
   ],
   "source": [
    "# 测试SimpleDataset\n",
    "from dataset import SimpleDataset\n",
    "df = SimpleDataset(data.pairs, vocab)\n",
    "for m in df:\n",
    "    print(m)\n",
    "    break"
   ]
  },
  {
   "cell_type": "code",
   "execution_count": 5,
   "metadata": {},
   "outputs": [
    {
     "data": {
      "text/plain": [
       "torch.Size([3, 3, 100])"
      ]
     },
     "execution_count": 5,
     "metadata": {},
     "output_type": "execute_result"
    }
   ],
   "source": [
    "import torch.nn as nn\n",
    "import torch\n",
    "em = nn.Embedding(300,100)\n",
    "\n",
    "# bs, seq_len, hidden_size\n",
    "em(torch.tensor([[1, 2,3], [4, 5, 6], [7, 8, 9]])).shape"
   ]
  },
  {
   "cell_type": "code",
   "execution_count": 10,
   "metadata": {},
   "outputs": [
    {
     "data": {
      "text/plain": [
       "torch.Size([1, 2])"
      ]
     },
     "execution_count": 10,
     "metadata": {},
     "output_type": "execute_result"
    }
   ],
   "source": [
    "x = torch.rand(3, 2)\n",
    "torch.sum(x, dim=0, keepdim=True).shape"
   ]
  },
  {
   "cell_type": "code",
   "execution_count": 13,
   "metadata": {},
   "outputs": [
    {
     "data": {
      "text/plain": [
       "tensor([1, 0, 1, 1, 1, 1, 1, 1, 1, 1], dtype=torch.uint8)"
      ]
     },
     "execution_count": 13,
     "metadata": {},
     "output_type": "execute_result"
    }
   ],
   "source": [
    "torch.ne(torch.arange(10), 1).byte()"
   ]
  },
  {
   "cell_type": "code",
   "execution_count": 15,
   "metadata": {},
   "outputs": [
    {
     "name": "stdout",
     "output_type": "stream",
     "text": [
      "tensor([[1, 2],\n",
      "        [3, 4]])\n"
     ]
    },
    {
     "data": {
      "text/plain": [
       "tensor([[1, 1],\n",
       "        [4, 3]])"
      ]
     },
     "execution_count": 15,
     "metadata": {},
     "output_type": "execute_result"
    }
   ],
   "source": [
    "t = torch.tensor([[1, 2], [3, 4]])\n",
    "print(t)\n",
    "torch.gather(t, 1, torch.tensor([[0, 0], [1, 0]]))"
   ]
  },
  {
   "cell_type": "code",
   "execution_count": 25,
   "metadata": {},
   "outputs": [
    {
     "name": "stdout",
     "output_type": "stream",
     "text": [
      "tensor([0, 1, 2, 3, 4]) tensor([0, 0, 4, 5, 6])\n"
     ]
    },
    {
     "data": {
      "text/plain": [
       "tensor([0, 0, 2, 3, 4])"
      ]
     },
     "execution_count": 25,
     "metadata": {},
     "output_type": "execute_result"
    }
   ],
   "source": [
    "a = torch.arange(5)\n",
    "b = torch.tensor([0, 0, 4, 5, 6])\n",
    "print(a, b)\n",
    "torch.min(a, b)"
   ]
  },
  {
   "cell_type": "code",
   "execution_count": 1,
   "metadata": {},
   "outputs": [
    {
     "name": "stderr",
     "output_type": "stream",
     "text": [
      "100%|██████████| 200/200 [00:02<00:00, 91.24it/s]\n"
     ]
    }
   ],
   "source": [
    "import time\n",
    "from tqdm import tqdm\n",
    "\n",
    "with tqdm(total=200) as pbar:\n",
    "    for i in range(20):\n",
    "        pbar.update(10)\n",
    "        time.sleep(.1)"
   ]
  },
  {
   "cell_type": "code",
   "execution_count": 4,
   "metadata": {},
   "outputs": [
    {
     "name": "stdout",
     "output_type": "stream",
     "text": [
      "b'\\x80\\x04\\x95\\x1e\\x00\\x00\\x00\\x00\\x00\\x00\\x00\\x8c\\rI love Python\\x94\\x8f\\x94(K\\x01K\\x02K\\x03\\x90N\\x87\\x94.'\n",
      "('I love Python', {1, 2, 3}, None)\n"
     ]
    }
   ],
   "source": [
    "import pickle\n",
    "tup1 = ('I love Python', {1,2,3}, None)\n",
    "\n",
    "p1 = pickle.dumps(tup1)\n",
    "print(p1)\n",
    "\n",
    "t2 = pickle.loads(p1)\n",
    "print(t2)"
   ]
  },
  {
   "attachments": {},
   "cell_type": "markdown",
   "metadata": {},
   "source": [
    "pickle.dump()函数"
   ]
  },
  {
   "cell_type": "code",
   "execution_count": 6,
   "metadata": {},
   "outputs": [],
   "source": [
    "import pickle\n",
    "tup1 = ('I love Python', {1,2,3}, None)\n",
    "#使用 dumps() 函数将 tup1 转成 p1\n",
    "with open (\"a.pickle\", 'wb') as f: #打开文件\n",
    "    pickle.dump(tup1, f) #用 dump 函数将 Python 对象转成二进制对象文件"
   ]
  },
  {
   "cell_type": "code",
   "execution_count": 11,
   "metadata": {},
   "outputs": [],
   "source": [
    "import torch\n",
    "import torch.nn.functional as F"
   ]
  },
  {
   "cell_type": "code",
   "execution_count": 10,
   "metadata": {},
   "outputs": [
    {
     "data": {
      "text/plain": [
       "tensor([[0.0117, 0.0317, 0.0861, 0.2341, 0.6364],\n",
       "        [0.0117, 0.0317, 0.0861, 0.2341, 0.6364]])"
      ]
     },
     "execution_count": 10,
     "metadata": {},
     "output_type": "execute_result"
    }
   ],
   "source": [
    "F.softmax(torch.arange(10).reshape(2, 5).float(),dim=1)"
   ]
  },
  {
   "cell_type": "code",
   "execution_count": 19,
   "metadata": {},
   "outputs": [
    {
     "data": {
      "text/plain": [
       "torch.Size([2, 1])"
      ]
     },
     "execution_count": 19,
     "metadata": {},
     "output_type": "execute_result"
    }
   ],
   "source": [
    "torch.mean(torch.arange(10).reshape(2, 5).float(), dim=-1,keepdim=True).shape"
   ]
  },
  {
   "cell_type": "code",
   "execution_count": 25,
   "metadata": {},
   "outputs": [
    {
     "data": {
      "text/plain": [
       "torch.Size([3, 2])"
      ]
     },
     "execution_count": 25,
     "metadata": {},
     "output_type": "execute_result"
    }
   ],
   "source": [
    "a = torch.tensor([1, 2, 3])\n",
    "b = torch.tensor([4, 5, 6])\n",
    "torch.stack([a, b], 1).shape"
   ]
  },
  {
   "cell_type": "code",
   "execution_count": 6,
   "metadata": {},
   "outputs": [
    {
     "data": {
      "text/plain": [
       "90.68867924528301"
      ]
     },
     "execution_count": 6,
     "metadata": {},
     "output_type": "execute_result"
    }
   ],
   "source": [
    "(103 * 91 + 80 * 3 )/106"
   ]
  },
  {
   "cell_type": "code",
   "execution_count": null,
   "metadata": {},
   "outputs": [],
   "source": []
  }
 ],
 "metadata": {
  "kernelspec": {
   "display_name": "base",
   "language": "python",
   "name": "python3"
  },
  "language_info": {
   "codemirror_mode": {
    "name": "ipython",
    "version": 3
   },
   "file_extension": ".py",
   "mimetype": "text/x-python",
   "name": "python",
   "nbconvert_exporter": "python",
   "pygments_lexer": "ipython3",
   "version": "3.8.8"
  },
  "orig_nbformat": 4,
  "vscode": {
   "interpreter": {
    "hash": "47e86d731e077963188d400b641a1f5cee6401b89b8a1175acb1a082248e2517"
   }
  }
 },
 "nbformat": 4,
 "nbformat_minor": 2
}
