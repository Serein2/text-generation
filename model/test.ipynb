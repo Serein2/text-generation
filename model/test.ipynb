{
 "cells": [
  {
   "cell_type": "code",
   "execution_count": 1,
   "metadata": {},
   "outputs": [],
   "source": [
    "import json\n",
    "import os\n",
    "import jieba\n",
    "from dataset import PairDataset"
   ]
  },
  {
   "cell_type": "code",
   "execution_count": 2,
   "metadata": {},
   "outputs": [
    {
     "name": "stdout",
     "output_type": "stream",
     "text": [
      "Reading dataset ../files/train.txt... 43995 paris.\n"
     ]
    }
   ],
   "source": [
    "data = PairDataset(filename='../files/train.txt')\n",
    "vocab = data.bulid_vocab()"
   ]
  },
  {
   "cell_type": "code",
   "execution_count": 3,
   "metadata": {},
   "outputs": [
    {
     "ename": "NameError",
     "evalue": "name 'vocab' is not defined",
     "output_type": "error",
     "traceback": [
      "\u001b[1;31m---------------------------------------------------------------------------\u001b[0m",
      "\u001b[1;31mNameError\u001b[0m                                 Traceback (most recent call last)",
      "Cell \u001b[1;32mIn[3], line 4\u001b[0m\n\u001b[0;32m      2\u001b[0m \u001b[39mfrom\u001b[39;00m \u001b[39mdataset\u001b[39;00m \u001b[39mimport\u001b[39;00m SimpleDataset\n\u001b[0;32m      3\u001b[0m df \u001b[39m=\u001b[39m SimpleDataset(data\u001b[39m.\u001b[39mpairs, vocab)\n\u001b[1;32m----> 4\u001b[0m \u001b[39mfor\u001b[39;00m m \u001b[39min\u001b[39;00m df:\n\u001b[0;32m      5\u001b[0m     \u001b[39mprint\u001b[39m(m)\n\u001b[0;32m      6\u001b[0m     \u001b[39mbreak\u001b[39;00m\n",
      "File \u001b[1;32me:\\learn\\京东电商文本生成\\model\\dataset.py:87\u001b[0m, in \u001b[0;36mSimpleDataset.__getitem__\u001b[1;34m(self, item)\u001b[0m\n\u001b[0;32m     86\u001b[0m \u001b[39mdef\u001b[39;00m \u001b[39m__getitem__\u001b[39m(\u001b[39mself\u001b[39m, item):\n\u001b[1;32m---> 87\u001b[0m     x, oov \u001b[39m=\u001b[39m source2ids(\u001b[39mself\u001b[39m\u001b[39m.\u001b[39msrc_sents[item], vocab)\n\u001b[0;32m     88\u001b[0m     \u001b[39mreturn\u001b[39;00m {\n\u001b[0;32m     89\u001b[0m         \u001b[39m'\u001b[39m\u001b[39mx\u001b[39m\u001b[39m'\u001b[39m: [\u001b[39mself\u001b[39m\u001b[39m.\u001b[39mvocab\u001b[39m.\u001b[39mSOS] \u001b[39m+\u001b[39m x \u001b[39m+\u001b[39m [\u001b[39mself\u001b[39m\u001b[39m.\u001b[39mvocab\u001b[39m.\u001b[39mEOS],\n\u001b[0;32m     90\u001b[0m         \u001b[39m'\u001b[39m\u001b[39mOOV\u001b[39m\u001b[39m'\u001b[39m: oov,\n\u001b[1;32m   (...)\u001b[0m\n\u001b[0;32m     96\u001b[0m         \u001b[39m'\u001b[39m\u001b[39my_len\u001b[39m\u001b[39m'\u001b[39m: \u001b[39mlen\u001b[39m(\u001b[39mself\u001b[39m\u001b[39m.\u001b[39mtgt_sents[item])\n\u001b[0;32m     97\u001b[0m     }\n",
      "\u001b[1;31mNameError\u001b[0m: name 'vocab' is not defined"
     ]
    }
   ],
   "source": [
    "# 测试SimpleDataset\n",
    "from dataset import SimpleDataset\n",
    "df = SimpleDataset(data.pairs, vocab)\n",
    "for m in df:\n",
    "    print(m)\n",
    "    break"
   ]
  },
  {
   "cell_type": "code",
   "execution_count": 6,
   "metadata": {},
   "outputs": [
    {
     "data": {
      "text/plain": [
       "<dataset.SimpleDataset at 0x171f9ea9970>"
      ]
     },
     "execution_count": 6,
     "metadata": {},
     "output_type": "execute_result"
    }
   ],
   "source": []
  },
  {
   "cell_type": "code",
   "execution_count": null,
   "metadata": {},
   "outputs": [],
   "source": []
  }
 ],
 "metadata": {
  "kernelspec": {
   "display_name": "base",
   "language": "python",
   "name": "python3"
  },
  "language_info": {
   "codemirror_mode": {
    "name": "ipython",
    "version": 3
   },
   "file_extension": ".py",
   "mimetype": "text/x-python",
   "name": "python",
   "nbconvert_exporter": "python",
   "pygments_lexer": "ipython3",
   "version": "3.8.8"
  },
  "orig_nbformat": 4,
  "vscode": {
   "interpreter": {
    "hash": "47e86d731e077963188d400b641a1f5cee6401b89b8a1175acb1a082248e2517"
   }
  }
 },
 "nbformat": 4,
 "nbformat_minor": 2
}
