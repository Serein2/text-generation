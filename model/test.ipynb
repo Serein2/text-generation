{
 "cells": [
  {
   "cell_type": "code",
   "execution_count": 4,
   "metadata": {},
   "outputs": [],
   "source": [
    "import json\n",
    "import os\n",
    "import jieba\n",
    "from dataset import PairDataset"
   ]
  },
  {
   "cell_type": "code",
   "execution_count": 5,
   "metadata": {},
   "outputs": [],
   "source": [
    "with open(\"../files/服饰_50k.json\",'r', encoding='utf-8') as file:\n",
    "    jsf = json.load(file)"
   ]
  },
  {
   "cell_type": "code",
   "execution_count": 8,
   "metadata": {},
   "outputs": [
    {
     "name": "stderr",
     "output_type": "stream",
     "text": [
      "Building prefix dict from the default dictionary ...\n",
      "Loading model from cache C:\\Users\\86131\\AppData\\Local\\Temp\\jieba.cache\n",
      "Loading model cost 0.760 seconds.\n",
      "Prefix dict has been built successfully.\n"
     ]
    }
   ],
   "source": [
    "samples = set()\n",
    "\n",
    "for jsobj in jsf.values():\n",
    "    title = jsobj['title'] + \" \" # Get title\n",
    "    kb = dict(jsobj['kb']).items()\n",
    "    kb_merged = ''\n",
    "    for key, val in kb:\n",
    "        kb_merged += key + \" \" + val + \" \"\n",
    "    \n",
    "    ocr = \" \".join(list(jieba.cut(jsobj['ocr']))) # Get OCR text\n",
    "    texts = []\n",
    "    texts.append(title + ocr + kb_merged) # Merge them\n",
    "    reference = \" \".join(list(jieba.cut(jsobj['reference'])))\n",
    "    for text in texts:\n",
    "        sample = text + \"<sep>\" + reference # Seperate source and reference.\n",
    "        samples.add(sample)\n",
    "\n"
   ]
  },
  {
   "cell_type": "code",
   "execution_count": 5,
   "metadata": {},
   "outputs": [
    {
     "name": "stdout",
     "output_type": "stream",
     "text": [
      "Reading dataset ../files/train.txt... 43995 paris.\n"
     ]
    }
   ],
   "source": [
    "data = PairDataset(filename='../files/train.txt')"
   ]
  },
  {
   "cell_type": "code",
   "execution_count": 6,
   "metadata": {},
   "outputs": [
    {
     "ename": "NameError",
     "evalue": "name 'word2index' is not defined",
     "output_type": "error",
     "traceback": [
      "\u001b[1;31m---------------------------------------------------------------------------\u001b[0m",
      "\u001b[1;31mNameError\u001b[0m                                 Traceback (most recent call last)",
      "Cell \u001b[1;32mIn[6], line 1\u001b[0m\n\u001b[1;32m----> 1\u001b[0m data\u001b[39m.\u001b[39;49mbulid_vocab()\n",
      "File \u001b[1;32me:\\learn\\京东电商文本生成\\model\\dataset.py:67\u001b[0m, in \u001b[0;36mPairDataset.bulid_vocab\u001b[1;34m(self, embed_file)\u001b[0m\n\u001b[0;32m     64\u001b[0m vocab \u001b[39m=\u001b[39m Vocab()\n\u001b[0;32m     66\u001b[0m \u001b[39mfor\u001b[39;00m word, count \u001b[39min\u001b[39;00m word_counts\u001b[39m.\u001b[39mmost_common(config\u001b[39m.\u001b[39mmax_vocab_size):\n\u001b[1;32m---> 67\u001b[0m     vocab\u001b[39m.\u001b[39;49madd_words(word)\n\u001b[0;32m     68\u001b[0m \u001b[39mif\u001b[39;00m embed_file \u001b[39mis\u001b[39;00m \u001b[39mnot\u001b[39;00m \u001b[39mNone\u001b[39;00m:\n\u001b[0;32m     69\u001b[0m     count \u001b[39m=\u001b[39m vocab\u001b[39m.\u001b[39mload_embeddings(embed_file)\n",
      "File \u001b[1;32me:\\learn\\京东电商文本生成\\model\\vocab.py:27\u001b[0m, in \u001b[0;36mVocab.add_words\u001b[1;34m(self, words)\u001b[0m\n\u001b[0;32m     25\u001b[0m \u001b[39m\"\u001b[39m\u001b[39mAdd a new token to the vocab\u001b[39m\u001b[39m\"\u001b[39m\n\u001b[0;32m     26\u001b[0m \u001b[39mfor\u001b[39;00m word \u001b[39min\u001b[39;00m words:\n\u001b[1;32m---> 27\u001b[0m     \u001b[39mif\u001b[39;00m word \u001b[39mnot\u001b[39;00m \u001b[39min\u001b[39;00m word2index:\n\u001b[0;32m     28\u001b[0m         \u001b[39mself\u001b[39m\u001b[39m.\u001b[39mword2index[word] \u001b[39m=\u001b[39m \u001b[39mlen\u001b[39m(\u001b[39mself\u001b[39m\u001b[39m.\u001b[39mword2index)\n\u001b[0;32m     29\u001b[0m         \u001b[39mself\u001b[39m\u001b[39m.\u001b[39mindex2word\u001b[39m.\u001b[39mappend(word)\n",
      "\u001b[1;31mNameError\u001b[0m: name 'word2index' is not defined"
     ]
    }
   ],
   "source": [
    "data.bulid_vocab()"
   ]
  },
  {
   "cell_type": "code",
   "execution_count": null,
   "metadata": {},
   "outputs": [],
   "source": []
  }
 ],
 "metadata": {
  "kernelspec": {
   "display_name": "base",
   "language": "python",
   "name": "python3"
  },
  "language_info": {
   "codemirror_mode": {
    "name": "ipython",
    "version": 3
   },
   "file_extension": ".py",
   "mimetype": "text/x-python",
   "name": "python",
   "nbconvert_exporter": "python",
   "pygments_lexer": "ipython3",
   "version": "3.8.8"
  },
  "orig_nbformat": 4,
  "vscode": {
   "interpreter": {
    "hash": "47e86d731e077963188d400b641a1f5cee6401b89b8a1175acb1a082248e2517"
   }
  }
 },
 "nbformat": 4,
 "nbformat_minor": 2
}
